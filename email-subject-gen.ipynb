{
 "cells": [
  {
   "cell_type": "code",
   "execution_count": null,
   "id": "55100e52",
   "metadata": {
    "trusted": true
   },
   "outputs": [],
   "source": [
    "import pandas as pd\n",
    "df = pd.read_csv(\"/kaggle/input/enron-email/enron_cleaned_subject_body_3.csv\")\n",
    "df.head(20)"
   ]
  },
  {
   "cell_type": "code",
   "execution_count": null,
   "id": "b96366ee",
   "metadata": {
    "trusted": true
   },
   "outputs": [],
   "source": [
    "df['input_text'] = \"generate subject: \" + df['clean_body']\n",
    "df['target_text'] = df['clean_subject']\n",
    "\n",
    "df.shape"
   ]
  },
  {
   "cell_type": "code",
   "execution_count": null,
   "id": "d10d83ea",
   "metadata": {
    "trusted": true
   },
   "outputs": [],
   "source": [
    "df.head(20)"
   ]
  },
  {
   "cell_type": "code",
   "execution_count": null,
   "id": "28319cdc",
   "metadata": {
    "trusted": true
   },
   "outputs": [],
   "source": [
    "df.isna().sum()"
   ]
  },
  {
   "cell_type": "code",
   "execution_count": null,
   "id": "e5377513",
   "metadata": {
    "trusted": true
   },
   "outputs": [],
   "source": [
    "df = df.dropna()"
   ]
  },
  {
   "cell_type": "code",
   "execution_count": null,
   "id": "2c37efd7",
   "metadata": {
    "trusted": true
   },
   "outputs": [],
   "source": [
    "df.isna().sum()"
   ]
  },
  {
   "cell_type": "code",
   "execution_count": null,
   "id": "a8cd50e1",
   "metadata": {
    "trusted": true
   },
   "outputs": [],
   "source": [
    "df.shape"
   ]
  },
  {
   "cell_type": "code",
   "execution_count": null,
   "id": "2d7cfd35",
   "metadata": {
    "trusted": true
   },
   "outputs": [],
   "source": [
    "df.head(20)"
   ]
  },
  {
   "cell_type": "code",
   "execution_count": null,
   "id": "a540abe4",
   "metadata": {
    "trusted": true
   },
   "outputs": [],
   "source": [
    "from sklearn.model_selection import train_test_split\n",
    "train_df, temp_df = train_test_split(df, test_size=0.3, random_state=42)\n",
    "val_df, test_df = train_test_split(temp_df, test_size=0.5, random_state=42)\n",
    "\n",
    "\n",
    "print(train_df.shape, val_df.shape, test_df.shape)"
   ]
  },
  {
   "cell_type": "code",
   "execution_count": null,
   "id": "2aeeb718",
   "metadata": {
    "trusted": true
   },
   "outputs": [],
   "source": [
    "from datasets import Dataset\n",
    "\n",
    "train_dataset = Dataset.from_pandas(train_df[['input_text', 'target_text']].reset_index(drop=True))\n",
    "val_dataset = Dataset.from_pandas(val_df[['input_text', 'target_text']].reset_index(drop=True))\n",
    "test_dataset = Dataset.from_pandas(test_df[['input_text', 'target_text']].reset_index(drop=True))\n"
   ]
  },
  {
   "cell_type": "code",
   "execution_count": null,
   "id": "2fe40705",
   "metadata": {
    "trusted": true
   },
   "outputs": [],
   "source": [
    "from transformers import T5Tokenizer\n",
    "tokenizer = T5Tokenizer.from_pretrained(\"t5-base\")\n",
    "\n"
   ]
  },
  {
   "cell_type": "code",
   "execution_count": null,
   "id": "488b7f2a",
   "metadata": {
    "trusted": true
   },
   "outputs": [],
   "source": [
    "def tokenize(row):\n",
    "    input_enc = tokenizer(\n",
    "        row[\"input_text\"],\n",
    "        padding=\"max_length\",\n",
    "        truncation=True,\n",
    "        max_length = 512\n",
    "    )\n",
    "\n",
    "    target_enc = tokenizer(\n",
    "        row[\"target_text\"],\n",
    "        padding=\"max_length\",\n",
    "        truncation=True,\n",
    "        max_length = 64\n",
    "    )\n",
    "\n",
    "    labels = [\n",
    "        (token if token != tokenizer.pad_token_id else -100)\n",
    "        for token in target_enc[\"input_ids\"]\n",
    "    ]\n",
    "\n",
    "    return {\n",
    "        \"input_ids\": input_enc[\"input_ids\"],\n",
    "        \"attention_mask\": input_enc[\"attention_mask\"],\n",
    "        \"labels\": target_enc[\"input_ids\"]\n",
    "    }"
   ]
  },
  {
   "cell_type": "code",
   "execution_count": null,
   "id": "e16429bd",
   "metadata": {
    "trusted": true
   },
   "outputs": [],
   "source": [
    "tokenized_train = train_dataset.map(tokenize, batched=False)\n",
    "tokenized_val = val_dataset.map(tokenize, batched=False)\n",
    "tokenized_test = test_dataset.map(tokenize, batched=False)\n"
   ]
  },
  {
   "cell_type": "code",
   "execution_count": null,
   "id": "28bea209",
   "metadata": {
    "trusted": true
   },
   "outputs": [],
   "source": [
    "from transformers import T5ForConditionalGeneration, Trainer, TrainingArguments\n",
    "model = T5ForConditionalGeneration.from_pretrained(\"t5-base\") \n"
   ]
  },
  {
   "cell_type": "code",
   "execution_count": null,
   "id": "4f713de2-2115-44a1-9890-329868e184ba",
   "metadata": {
    "trusted": true
   },
   "outputs": [],
   "source": [
    "!pip install --upgrade transformers\n"
   ]
  },
  {
   "cell_type": "code",
   "execution_count": null,
   "id": "a7ed9cd3-7838-4997-83ed-c4ab0f26c2da",
   "metadata": {
    "trusted": true
   },
   "outputs": [],
   "source": [
    "from transformers import TrainingArguments\n",
    "help(TrainingArguments)\n"
   ]
  },
  {
   "cell_type": "code",
   "execution_count": null,
   "id": "e21a1774-d37b-4597-9470-58ac42cf50df",
   "metadata": {
    "trusted": true
   },
   "outputs": [],
   "source": [
    "training_args = TrainingArguments(\n",
    "    output_dir=\"./results\",\n",
    "    eval_strategy=\"epoch\",\n",
    "    save_strategy=\"epoch\",\n",
    "    learning_rate=3e-4,\n",
    "    per_device_train_batch_size=4,  # Smaller batch size for t5-base on Kaggle GPU\n",
    "    per_device_eval_batch_size=4,\n",
    "    num_train_epochs=3,\n",
    "    weight_decay=0.01,\n",
    "    save_total_limit=1,\n",
    "    logging_dir='./logs',\n",
    "    logging_steps=5,\n",
    "    load_best_model_at_end=True,\n",
    "    metric_for_best_model=\"eval_loss\"\n",
    ")\n"
   ]
  },
  {
   "cell_type": "code",
   "execution_count": null,
   "id": "48c6530a-bd4b-440a-894e-3232fcf31011",
   "metadata": {
    "trusted": true
   },
   "outputs": [],
   "source": [
    "!pip install -q evaluate  \n",
    "!pip install rouge_score"
   ]
  },
  {
   "cell_type": "code",
   "execution_count": null,
   "id": "ada6d798-878e-4909-904f-dc7827b93573",
   "metadata": {
    "trusted": true
   },
   "outputs": [],
   "source": [
    "from evaluate import load\n",
    "rouge = load(\"rouge\")\n",
    "\n",
    "\n",
    "def compute_metrics(eval_preds):\n",
    "    preds, labels = eval_preds\n",
    "    decoded_preds = tokenizer.batch_decode(preds, skip_special_tokens=True)\n",
    "    labels = np.where(labels != -100, labels, tokenizer.pad_token_id)\n",
    "    decoded_labels = tokenizer.batch_decode(labels, skip_special_tokens=True)\n",
    "    result = rouge.compute(predictions=decoded_preds, references=decoded_labels, use_stemmer=True)\n",
    "    return {key: value.mid.fmeasure for key, value in result.items()}\n"
   ]
  },
  {
   "cell_type": "code",
   "execution_count": null,
   "id": "5a6da8d4-78b5-48ec-8815-bd6bec3982fa",
   "metadata": {
    "trusted": true
   },
   "outputs": [],
   "source": [
    "trainer = Trainer(\n",
    "    model=model,\n",
    "    args=training_args,\n",
    "    train_dataset=tokenized_train,\n",
    "    eval_dataset=tokenized_val,\n",
    "    tokenizer=tokenizer,\n",
    "    compute_metrics=compute_metrics\n",
    ")\n",
    "\n",
    "trainer.train()\n"
   ]
  },
  {
   "cell_type": "code",
   "execution_count": null,
   "id": "a7115f9a-c3ec-405f-9153-0ca57e4ad9aa",
   "metadata": {
    "trusted": true
   },
   "outputs": [],
   "source": [
    "model.save_pretrained(\"/kaggle/working/t5_base_subject_model\")\n",
    "tokenizer.save_pretrained(\"/kaggle/working/t5_base_subject_model\")\n"
   ]
  }
 ],
 "metadata": {
  "kaggle": {
   "accelerator": "nvidiaTeslaT4",
   "dataSources": [
    {
     "datasetId": 7374280,
     "sourceId": 11746909,
     "sourceType": "datasetVersion"
    }
   ],
   "dockerImageVersionId": 31011,
   "isGpuEnabled": true,
   "isInternetEnabled": true,
   "language": "python",
   "sourceType": "notebook"
  },
  "kernelspec": {
   "display_name": "email-gen",
   "language": "python",
   "name": "python3"
  },
  "language_info": {
   "codemirror_mode": {
    "name": "ipython",
    "version": 3
   },
   "file_extension": ".py",
   "mimetype": "text/x-python",
   "name": "python",
   "nbconvert_exporter": "python",
   "pygments_lexer": "ipython3",
   "version": "3.9.22"
  }
 },
 "nbformat": 4,
 "nbformat_minor": 5
}
